{
 "cells": [
  {
   "cell_type": "code",
   "execution_count": 1,
   "id": "c8c7edca-ba38-42cf-a6d9-77002115dca2",
   "metadata": {},
   "outputs": [],
   "source": [
    " # Question no 1 - explain class and object with respect to object-oriented programming. Give a suitable example. "
   ]
  },
  {
   "cell_type": "code",
   "execution_count": 5,
   "id": "8228f6a3-8649-4f77-b752-31e1da81c952",
   "metadata": {},
   "outputs": [],
   "source": [
    "#Answer - Class is a blueprint for creating objects. It define set and attributes and methods that object created from the class will have. attributes are variable that hold data specific to each object created from the class, while methods are function that define the behaviour of the object.\n",
    " \n",
    "#Example\n"
   ]
  },
  {
   "cell_type": "code",
   "execution_count": 8,
   "id": "3f7b84a5-9376-4b24-a73d-6916a05f4178",
   "metadata": {},
   "outputs": [],
   "source": [
    "class car : \n",
    "    def __init__(self,make,model,year,warranty,tyercondition):\n",
    "        self.make = make\n",
    "        self.model = model\n",
    "        self.year = year\n",
    "        self.warranty = warranty\n",
    "        self.tyercondition = tyercondition\n",
    "        \n",
    "    def start_engine(self):\n",
    "        print(\"engine started\")\n",
    "        \n",
    "    def stop_engine(self):\n",
    "        print(\"engine stopped\")"
   ]
  },
  {
   "cell_type": "code",
   "execution_count": 12,
   "id": "103924e2-5850-4bbf-a717-f14995386333",
   "metadata": {},
   "outputs": [],
   "source": [
    "car1 = car(\"i20\",2013,2002,3,\"good\")"
   ]
  },
  {
   "cell_type": "code",
   "execution_count": 15,
   "id": "607682da-d973-47e0-a310-26f8672923eb",
   "metadata": {},
   "outputs": [
    {
     "name": "stdout",
     "output_type": "stream",
     "text": [
      "2013\n"
     ]
    }
   ],
   "source": [
    "print (car1.model)"
   ]
  },
  {
   "cell_type": "code",
   "execution_count": 16,
   "id": "a52b2ca9-7dff-419d-8804-186547b9b31f",
   "metadata": {},
   "outputs": [
    {
     "name": "stdout",
     "output_type": "stream",
     "text": [
      "good\n"
     ]
    }
   ],
   "source": [
    "print (car1.tyercondition)"
   ]
  },
  {
   "cell_type": "code",
   "execution_count": 17,
   "id": "bf10938e-6a1f-47ee-9a0a-4395a40f1fb0",
   "metadata": {},
   "outputs": [],
   "source": [
    "# NAME THE FOUR PILLARS OF OOPS."
   ]
  },
  {
   "cell_type": "code",
   "execution_count": 18,
   "id": "64785005-cbbc-4a3f-8d5b-879272ae6487",
   "metadata": {},
   "outputs": [],
   "source": [
    "# Answer - 1. ENCAPSULATION\n",
    "#          2. INHERITANCE\n",
    "#          3. POLYMORPHISM\n",
    "#          4. ABSTRACTION"
   ]
  },
  {
   "cell_type": "code",
   "execution_count": 19,
   "id": "085132f2-9561-4158-953d-2edadb7928e7",
   "metadata": {},
   "outputs": [],
   "source": [
    "# QUESTION - why __init__() function used in oop. give suitable example for this.\n"
   ]
  },
  {
   "cell_type": "code",
   "execution_count": 30,
   "id": "559c4353-dd87-402a-ab44-df6a4303de3f",
   "metadata": {},
   "outputs": [],
   "source": [
    "# Answer - \n",
    "  #  __init__() funtion is used for initialize the attributes of an object when it is created.\n",
    " # this method take at least one parameter that is usally (self). \n",
    " # self is the first parameter that use in class an we can also use other word its just a referance word for class function.\n",
    "    \n",
    "    \n",
    "            \n",
    "        \n",
    "            "
   ]
  },
  {
   "cell_type": "code",
   "execution_count": 31,
   "id": "9ebd1491-060c-48c7-a73b-ed8e725ec737",
   "metadata": {},
   "outputs": [],
   "source": [
    "class person:\n",
    "    def __init__(self,age,name,gender):\n",
    "        self.age =age\n",
    "        self.name = name\n",
    "        self.gender = gender\n",
    "        \n",
    "    def students_details(self):\n",
    "        print (self.age)"
   ]
  },
  {
   "cell_type": "code",
   "execution_count": 32,
   "id": "404882d2-0046-46c2-b24f-4f7c95145205",
   "metadata": {},
   "outputs": [],
   "source": [
    "ankus = person(22,\"ankush sharma\", \"male\")"
   ]
  },
  {
   "cell_type": "code",
   "execution_count": 33,
   "id": "fb710f10-f1a2-4f71-ae38-b0bc5002d6b8",
   "metadata": {},
   "outputs": [
    {
     "name": "stdout",
     "output_type": "stream",
     "text": [
      "ankush sharma\n"
     ]
    }
   ],
   "source": [
    "print(ankus.name)"
   ]
  },
  {
   "cell_type": "code",
   "execution_count": 35,
   "id": "afa6e301-2ce5-4323-a19c-f084350ad2f9",
   "metadata": {},
   "outputs": [],
   "source": [
    " # Question 4 - why self used in oop"
   ]
  },
  {
   "cell_type": "code",
   "execution_count": 36,
   "id": "d47f5cc7-45e1-4b99-bfe5-c872e0952262",
   "metadata": {},
   "outputs": [],
   "source": [
    "# Answer - Self is used as a referance to the current instance of a class . This used in python as a first parameter.\n",
    "#          The first argument in python we called self."
   ]
  },
  {
   "cell_type": "code",
   "execution_count": 37,
   "id": "66533653-b6c5-4bb8-861e-f10a9660d150",
   "metadata": {},
   "outputs": [],
   "source": [
    "# Quenstion  no 5 - what is inheritance? Give an example for each type of inheritance."
   ]
  },
  {
   "cell_type": "code",
   "execution_count": 40,
   "id": "a3d3eff9-ef44-4341-b965-78a52eed3e06",
   "metadata": {},
   "outputs": [],
   "source": [
    "# Answer - Inheritance is used for allow us to create a new class based on an existing class. The new class is called the derived or child class.\n",
    "#          types of inheritance \n",
    "    #       . single\n",
    "    #       . multiple\n",
    "    #       . multi-level\n",
    "    \n",
    "    \n",
    "   # single inheritance example\n",
    "    "
   ]
  },
  {
   "cell_type": "code",
   "execution_count": 42,
   "id": "093877d6-5c12-4e85-bdd8-9125b5d0633c",
   "metadata": {},
   "outputs": [],
   "source": [
    "class animal:\n",
    "    def __init__(self,name):\n",
    "        self.name = name \n",
    "        \n",
    "    def eat(self):\n",
    "        print(self.name)\n",
    "         \n",
    "    class cat(animal):\n",
    "        def __init__(self , name , breed):\n",
    "            super().__init__(name)\n",
    "            self.breed = breed\n",
    "\n",
    "        def meow(self):\n",
    "            print(self.name)"
   ]
  },
  {
   "cell_type": "code",
   "execution_count": null,
   "id": "26ecc559-046c-4c8c-a9d1-b79a3794a3fe",
   "metadata": {},
   "outputs": [],
   "source": []
  }
 ],
 "metadata": {
  "kernelspec": {
   "display_name": "Python 3 (ipykernel)",
   "language": "python",
   "name": "python3"
  },
  "language_info": {
   "codemirror_mode": {
    "name": "ipython",
    "version": 3
   },
   "file_extension": ".py",
   "mimetype": "text/x-python",
   "name": "python",
   "nbconvert_exporter": "python",
   "pygments_lexer": "ipython3",
   "version": "3.10.8"
  }
 },
 "nbformat": 4,
 "nbformat_minor": 5
}
